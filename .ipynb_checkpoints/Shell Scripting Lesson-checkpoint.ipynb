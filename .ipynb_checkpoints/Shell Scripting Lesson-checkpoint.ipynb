{
 "cells": [
  {
   "cell_type": "markdown",
   "metadata": {},
   "source": [
    "### Objectives\n",
    "YWBAT \n",
    "- explain one of the day to day tasks of a data engineer\n",
    "- build a shell script that executes db writing\n",
    "- write a pipeline to execute db writing\n",
    "- apply oop to handle daily tasks\n",
    "\n",
    "### Outcomes\n",
    "- write a script to write data to a specific mongo collection in a specific database\n",
    "- write an argument parser to parser command line arguments for shell scripting\n",
    "- explain the importance of writing an argument parser\n",
    "- explain the importance of writing a shell script\n",
    "\n",
    "\n",
    "### Outline\n",
    "- run demo of project\n",
    "- discuss the shell script that runs the project\n",
    "- discuss the argument parser\n",
    "- review the files: `mongo_connector.py, twitter_connector.py, mongo_twitter_executor.py`\n",
    "- add a function in the `mongo_connector.py or twitter_connector.py` files\n",
    "\n"
   ]
  },
  {
   "cell_type": "markdown",
   "metadata": {},
   "source": [
    "### Why learn this?\n",
    "You will almost definitely use this in your job. \n",
    "\n",
    "Using JN is awesome and fun...but they're not deployable. \n"
   ]
  },
  {
   "cell_type": "markdown",
   "metadata": {},
   "source": [
    "### Let's run a basic shell script! \n",
    "\n",
    "```\n",
    "echo 'hello world!'\n",
    "```"
   ]
  },
  {
   "cell_type": "markdown",
   "metadata": {},
   "source": [
    "### Let's create and run a python script using our shell\n",
    "\n",
    "1) first make a `.py` file and the a `.sh` file to run the `.py` file\n",
    "\n",
    "How do we run a python file called file.py?\n",
    "\n",
    "`python file.py`"
   ]
  },
  {
   "cell_type": "markdown",
   "metadata": {},
   "source": [
    "### Questions/Comments?\n",
    "- why the `#! /bin/bash` because this indicates a shell script\n",
    "\n",
    "- nothing cool....I guess"
   ]
  },
  {
   "cell_type": "markdown",
   "metadata": {},
   "source": [
    "### Now let's dive into the project! "
   ]
  },
  {
   "cell_type": "markdown",
   "metadata": {},
   "source": [
    "First let's look at \n",
    "\n",
    "`mongo_connector.py`"
   ]
  },
  {
   "cell_type": "code",
   "execution_count": 32,
   "metadata": {},
   "outputs": [],
   "source": [
    "from pymongo import MongoClient"
   ]
  },
  {
   "cell_type": "code",
   "execution_count": 33,
   "metadata": {},
   "outputs": [],
   "source": [
    "client = MongoClient(host='localhost', port=27017)"
   ]
  },
  {
   "cell_type": "code",
   "execution_count": 34,
   "metadata": {},
   "outputs": [
    {
     "data": {
      "text/plain": [
       "['admin',\n",
       " 'config',\n",
       " 'local',\n",
       " 'marchmadness',\n",
       " 'music_tweets',\n",
       " 'mydb',\n",
       " 'new_db',\n",
       " 'text_for_lesson',\n",
       " 'tweets']"
      ]
     },
     "execution_count": 34,
     "metadata": {},
     "output_type": "execute_result"
    }
   ],
   "source": [
    "client.list_database_names()"
   ]
  },
  {
   "cell_type": "code",
   "execution_count": 35,
   "metadata": {},
   "outputs": [],
   "source": [
    "db_for_lesson = client[\"text_for_lesson\"]"
   ]
  },
  {
   "cell_type": "code",
   "execution_count": 36,
   "metadata": {},
   "outputs": [
    {
     "data": {
      "text/plain": [
       "['twitter_test_collection']"
      ]
     },
     "execution_count": 36,
     "metadata": {},
     "output_type": "execute_result"
    }
   ],
   "source": [
    "db_for_lesson.list_collection_names()"
   ]
  },
  {
   "cell_type": "code",
   "execution_count": 37,
   "metadata": {},
   "outputs": [],
   "source": [
    "coll_for_lesson = db_for_lesson[\"twitter_test_collection\"]"
   ]
  },
  {
   "cell_type": "code",
   "execution_count": 38,
   "metadata": {},
   "outputs": [
    {
     "name": "stderr",
     "output_type": "stream",
     "text": [
      "/Users/rafael/anaconda3/envs/flatiron-env/lib/python3.6/site-packages/ipykernel_launcher.py:1: DeprecationWarning: count is deprecated. Use estimated_document_count or count_documents instead. Please note that $where must be replaced by $expr, $near must be replaced by $geoWithin with $center, and $nearSphere must be replaced by $geoWithin with $centerSphere\n",
      "  \"\"\"Entry point for launching an IPython kernel.\n"
     ]
    },
    {
     "data": {
      "text/plain": [
       "72"
      ]
     },
     "execution_count": 38,
     "metadata": {},
     "output_type": "execute_result"
    }
   ],
   "source": [
    "coll_for_lesson.count()"
   ]
  },
  {
   "cell_type": "code",
   "execution_count": 39,
   "metadata": {},
   "outputs": [
    {
     "data": {
      "text/plain": [
       "{'_id': ObjectId('5d64450bf01309eab84e2d04'),\n",
       " 'created_at': 'Mon Aug 26 20:45:20 +0000 2019',\n",
       " 'id': 1166089264188338176,\n",
       " 'id_str': '1166089264188338176',\n",
       " 'full_text': 'Old video still hot to this day #NewVideoAlert #Viral_SMS #hiphop #Monday  https://t.co/MPHXo72i2b',\n",
       " 'truncated': False,\n",
       " 'display_text_range': [0, 98],\n",
       " 'entities': {'hashtags': [{'text': 'NewVideoAlert', 'indices': [32, 46]},\n",
       "   {'text': 'Viral_SMS', 'indices': [47, 57]},\n",
       "   {'text': 'hiphop', 'indices': [58, 65]},\n",
       "   {'text': 'Monday', 'indices': [66, 73]}],\n",
       "  'symbols': [],\n",
       "  'user_mentions': [],\n",
       "  'urls': [{'url': 'https://t.co/MPHXo72i2b',\n",
       "    'expanded_url': 'https://youtu.be/9jtsnzHicow',\n",
       "    'display_url': 'youtu.be/9jtsnzHicow',\n",
       "    'indices': [75, 98]}]},\n",
       " 'metadata': {'iso_language_code': 'en', 'result_type': 'recent'},\n",
       " 'source': '<a href=\"http://twitter.com/download/android\" rel=\"nofollow\">Twitter for Android</a>',\n",
       " 'in_reply_to_status_id': None,\n",
       " 'in_reply_to_status_id_str': None,\n",
       " 'in_reply_to_user_id': None,\n",
       " 'in_reply_to_user_id_str': None,\n",
       " 'in_reply_to_screen_name': None,\n",
       " 'user': {'id': 2821278987,\n",
       "  'id_str': '2821278987',\n",
       "  'name': 'MONEYIGOTEM',\n",
       "  'screen_name': 'moneyigotem',\n",
       "  'location': 'worldwide',\n",
       "  'description': 'For Bookings, Features & Press: Contact: musicmoneymgt@gmail.com',\n",
       "  'url': 'https://t.co/cq5B2vaOtl',\n",
       "  'entities': {'url': {'urls': [{'url': 'https://t.co/cq5B2vaOtl',\n",
       "      'expanded_url': 'https://soundcloud.com/moneyigotem',\n",
       "      'display_url': 'soundcloud.com/moneyigotem',\n",
       "      'indices': [0, 23]}]},\n",
       "   'description': {'urls': []}},\n",
       "  'protected': False,\n",
       "  'followers_count': 365,\n",
       "  'friends_count': 43,\n",
       "  'listed_count': 1,\n",
       "  'created_at': 'Fri Oct 10 16:12:18 +0000 2014',\n",
       "  'favourites_count': 22,\n",
       "  'utc_offset': None,\n",
       "  'time_zone': None,\n",
       "  'geo_enabled': False,\n",
       "  'verified': False,\n",
       "  'statuses_count': 80,\n",
       "  'lang': None,\n",
       "  'contributors_enabled': False,\n",
       "  'is_translator': False,\n",
       "  'is_translation_enabled': False,\n",
       "  'profile_background_color': '131516',\n",
       "  'profile_background_image_url': 'http://abs.twimg.com/images/themes/theme14/bg.gif',\n",
       "  'profile_background_image_url_https': 'https://abs.twimg.com/images/themes/theme14/bg.gif',\n",
       "  'profile_background_tile': True,\n",
       "  'profile_image_url': 'http://pbs.twimg.com/profile_images/815972486907133952/QaW73uBx_normal.jpg',\n",
       "  'profile_image_url_https': 'https://pbs.twimg.com/profile_images/815972486907133952/QaW73uBx_normal.jpg',\n",
       "  'profile_banner_url': 'https://pbs.twimg.com/profile_banners/2821278987/1483378051',\n",
       "  'profile_link_color': 'ABB8C2',\n",
       "  'profile_sidebar_border_color': '000000',\n",
       "  'profile_sidebar_fill_color': 'DDEEF6',\n",
       "  'profile_text_color': '333333',\n",
       "  'profile_use_background_image': True,\n",
       "  'has_extended_profile': False,\n",
       "  'default_profile': False,\n",
       "  'default_profile_image': False,\n",
       "  'following': None,\n",
       "  'follow_request_sent': None,\n",
       "  'notifications': None,\n",
       "  'translator_type': 'none'},\n",
       " 'geo': None,\n",
       " 'coordinates': None,\n",
       " 'place': None,\n",
       " 'contributors': None,\n",
       " 'is_quote_status': False,\n",
       " 'retweet_count': 0,\n",
       " 'favorite_count': 0,\n",
       " 'favorited': False,\n",
       " 'retweeted': False,\n",
       " 'possibly_sensitive': False,\n",
       " 'lang': 'en'}"
      ]
     },
     "execution_count": 39,
     "metadata": {},
     "output_type": "execute_result"
    }
   ],
   "source": [
    "entries = list(coll_for_lesson.find({}))\n",
    "entries[0]"
   ]
  },
  {
   "cell_type": "code",
   "execution_count": 40,
   "metadata": {},
   "outputs": [
    {
     "data": {
      "text/plain": [
       "['twitter_test_collection', 'new_collection']"
      ]
     },
     "execution_count": 40,
     "metadata": {},
     "output_type": "execute_result"
    }
   ],
   "source": [
    "db_for_lesson.list_collection_names()"
   ]
  },
  {
   "cell_type": "code",
   "execution_count": 42,
   "metadata": {},
   "outputs": [
    {
     "data": {
      "text/plain": [
       "[{'_id': ObjectId('5d67fd92c7f6d2b06283fa5c'),\n",
       "  'name': 'Juan Sanchez',\n",
       "  'age': '32'}]"
      ]
     },
     "execution_count": 42,
     "metadata": {},
     "output_type": "execute_result"
    }
   ],
   "source": [
    "list(db_for_lesson['new_collection'].find({}))"
   ]
  },
  {
   "cell_type": "markdown",
   "metadata": {},
   "source": [
    "### After looking at the `mongo_connector.py` file, what have we learned?\n",
    "\n",
    "- specify database in `__init__` method\n",
    "- the purpose of `if __name__==\"__main__\":`\n",
    "- moving from jupyter to scripting\n",
    "- how to create your own `verbose` parameter"
   ]
  },
  {
   "cell_type": "markdown",
   "metadata": {},
   "source": [
    "### let's review Tweepy"
   ]
  },
  {
   "cell_type": "code",
   "execution_count": 44,
   "metadata": {},
   "outputs": [],
   "source": [
    "import tweepy as tw\n",
    "import json"
   ]
  },
  {
   "cell_type": "code",
   "execution_count": 51,
   "metadata": {},
   "outputs": [
    {
     "ename": "FileNotFoundError",
     "evalue": "[Errno 2] No such file or directory: 'your_file_perms_here'",
     "output_type": "error",
     "traceback": [
      "\u001b[0;31m---------------------------------------------------------------\u001b[0m",
      "\u001b[0;31mFileNotFoundError\u001b[0m             Traceback (most recent call last)",
      "\u001b[0;32m<ipython-input-51-f5dc971f9e54>\u001b[0m in \u001b[0;36m<module>\u001b[0;34m\u001b[0m\n\u001b[0;32m----> 1\u001b[0;31m \u001b[0;32mwith\u001b[0m \u001b[0mopen\u001b[0m\u001b[0;34m(\u001b[0m\u001b[0;34m\"your_file_perms_here\"\u001b[0m\u001b[0;34m)\u001b[0m \u001b[0;32mas\u001b[0m \u001b[0mf\u001b[0m\u001b[0;34m:\u001b[0m\u001b[0;34m\u001b[0m\u001b[0m\n\u001b[0m\u001b[1;32m      2\u001b[0m     \u001b[0md\u001b[0m \u001b[0;34m=\u001b[0m \u001b[0mjson\u001b[0m\u001b[0;34m.\u001b[0m\u001b[0mload\u001b[0m\u001b[0;34m(\u001b[0m\u001b[0mf\u001b[0m\u001b[0;34m)\u001b[0m\u001b[0;34m\u001b[0m\u001b[0m\n\u001b[1;32m      3\u001b[0m \u001b[0mprint\u001b[0m\u001b[0;34m(\u001b[0m\u001b[0md\u001b[0m\u001b[0;34m.\u001b[0m\u001b[0mkeys\u001b[0m\u001b[0;34m(\u001b[0m\u001b[0;34m)\u001b[0m\u001b[0;34m)\u001b[0m\u001b[0;34m\u001b[0m\u001b[0m\n",
      "\u001b[0;31mFileNotFoundError\u001b[0m: [Errno 2] No such file or directory: 'your_file_perms_here'"
     ]
    }
   ],
   "source": [
    "with open(\"your_file_perms_here\") as f:\n",
    "    d = json.load(f)\n",
    "print(d.keys())"
   ]
  },
  {
   "cell_type": "code",
   "execution_count": 46,
   "metadata": {},
   "outputs": [],
   "source": [
    "auth = tw.OAuthHandler(consumer_key=d[\"consumer_key\"], consumer_secret=d[\"consumer_secret\"])"
   ]
  },
  {
   "cell_type": "code",
   "execution_count": 47,
   "metadata": {},
   "outputs": [],
   "source": [
    "api = tw.API(auth_handler=auth)"
   ]
  },
  {
   "cell_type": "markdown",
   "metadata": {},
   "source": [
    "### what did we learn from this?\n",
    "- Trust noone with your permissions\n",
    "- `with` closes the file at the end of the operation"
   ]
  },
  {
   "cell_type": "markdown",
   "metadata": {},
   "source": [
    "### let's put these together"
   ]
  },
  {
   "cell_type": "markdown",
   "metadata": {},
   "source": [
    "### The next step would be to automate this using autosys or crontab"
   ]
  }
 ],
 "metadata": {
  "kernelspec": {
   "display_name": "Python [conda env:flatiron-env]",
   "language": "python",
   "name": "conda-env-flatiron-env-py"
  },
  "language_info": {
   "codemirror_mode": {
    "name": "ipython",
    "version": 3
   },
   "file_extension": ".py",
   "mimetype": "text/x-python",
   "name": "python",
   "nbconvert_exporter": "python",
   "pygments_lexer": "ipython3",
   "version": "3.6.0"
  }
 },
 "nbformat": 4,
 "nbformat_minor": 2
}
